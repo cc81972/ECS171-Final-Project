{
 "cells": [
  {
   "cell_type": "code",
   "execution_count": 2,
   "metadata": {},
   "outputs": [],
   "source": [
    "import pandas as pd\n",
    "import numpy as np\n",
    "import matplotlib.pyplot as plt\n",
    "import seaborn as sns\n",
    "from sklearn.preprocessing import StandardScaler\n",
    "from sklearn.model_selection import train_test_split\n"
   ]
  },
  {
   "cell_type": "code",
   "execution_count": 3,
   "metadata": {},
   "outputs": [
    {
     "data": {
      "text/html": [
       "<div>\n",
       "<style scoped>\n",
       "    .dataframe tbody tr th:only-of-type {\n",
       "        vertical-align: middle;\n",
       "    }\n",
       "\n",
       "    .dataframe tbody tr th {\n",
       "        vertical-align: top;\n",
       "    }\n",
       "\n",
       "    .dataframe thead th {\n",
       "        text-align: right;\n",
       "    }\n",
       "</style>\n",
       "<table border=\"1\" class=\"dataframe\">\n",
       "  <thead>\n",
       "    <tr style=\"text-align: right;\">\n",
       "      <th></th>\n",
       "      <th>Hours_Studied</th>\n",
       "      <th>Attendance</th>\n",
       "      <th>Previous_Scores</th>\n",
       "      <th>Tutoring_Sessions</th>\n",
       "      <th>Exam_Score</th>\n",
       "    </tr>\n",
       "  </thead>\n",
       "  <tbody>\n",
       "    <tr>\n",
       "      <th>0</th>\n",
       "      <td>23</td>\n",
       "      <td>84</td>\n",
       "      <td>73</td>\n",
       "      <td>0</td>\n",
       "      <td>67</td>\n",
       "    </tr>\n",
       "    <tr>\n",
       "      <th>1</th>\n",
       "      <td>19</td>\n",
       "      <td>64</td>\n",
       "      <td>59</td>\n",
       "      <td>2</td>\n",
       "      <td>61</td>\n",
       "    </tr>\n",
       "    <tr>\n",
       "      <th>2</th>\n",
       "      <td>24</td>\n",
       "      <td>98</td>\n",
       "      <td>91</td>\n",
       "      <td>2</td>\n",
       "      <td>74</td>\n",
       "    </tr>\n",
       "    <tr>\n",
       "      <th>3</th>\n",
       "      <td>29</td>\n",
       "      <td>89</td>\n",
       "      <td>98</td>\n",
       "      <td>1</td>\n",
       "      <td>71</td>\n",
       "    </tr>\n",
       "    <tr>\n",
       "      <th>4</th>\n",
       "      <td>19</td>\n",
       "      <td>92</td>\n",
       "      <td>65</td>\n",
       "      <td>3</td>\n",
       "      <td>70</td>\n",
       "    </tr>\n",
       "    <tr>\n",
       "      <th>...</th>\n",
       "      <td>...</td>\n",
       "      <td>...</td>\n",
       "      <td>...</td>\n",
       "      <td>...</td>\n",
       "      <td>...</td>\n",
       "    </tr>\n",
       "    <tr>\n",
       "      <th>6602</th>\n",
       "      <td>25</td>\n",
       "      <td>69</td>\n",
       "      <td>76</td>\n",
       "      <td>1</td>\n",
       "      <td>68</td>\n",
       "    </tr>\n",
       "    <tr>\n",
       "      <th>6603</th>\n",
       "      <td>23</td>\n",
       "      <td>76</td>\n",
       "      <td>81</td>\n",
       "      <td>3</td>\n",
       "      <td>69</td>\n",
       "    </tr>\n",
       "    <tr>\n",
       "      <th>6604</th>\n",
       "      <td>20</td>\n",
       "      <td>90</td>\n",
       "      <td>65</td>\n",
       "      <td>3</td>\n",
       "      <td>68</td>\n",
       "    </tr>\n",
       "    <tr>\n",
       "      <th>6605</th>\n",
       "      <td>10</td>\n",
       "      <td>86</td>\n",
       "      <td>91</td>\n",
       "      <td>2</td>\n",
       "      <td>68</td>\n",
       "    </tr>\n",
       "    <tr>\n",
       "      <th>6606</th>\n",
       "      <td>15</td>\n",
       "      <td>67</td>\n",
       "      <td>94</td>\n",
       "      <td>0</td>\n",
       "      <td>64</td>\n",
       "    </tr>\n",
       "  </tbody>\n",
       "</table>\n",
       "<p>6607 rows × 5 columns</p>\n",
       "</div>"
      ],
      "text/plain": [
       "      Hours_Studied  Attendance  Previous_Scores  Tutoring_Sessions  \\\n",
       "0                23          84               73                  0   \n",
       "1                19          64               59                  2   \n",
       "2                24          98               91                  2   \n",
       "3                29          89               98                  1   \n",
       "4                19          92               65                  3   \n",
       "...             ...         ...              ...                ...   \n",
       "6602             25          69               76                  1   \n",
       "6603             23          76               81                  3   \n",
       "6604             20          90               65                  3   \n",
       "6605             10          86               91                  2   \n",
       "6606             15          67               94                  0   \n",
       "\n",
       "      Exam_Score  \n",
       "0             67  \n",
       "1             61  \n",
       "2             74  \n",
       "3             71  \n",
       "4             70  \n",
       "...          ...  \n",
       "6602          68  \n",
       "6603          69  \n",
       "6604          68  \n",
       "6605          68  \n",
       "6606          64  \n",
       "\n",
       "[6607 rows x 5 columns]"
      ]
     },
     "execution_count": 3,
     "metadata": {},
     "output_type": "execute_result"
    }
   ],
   "source": [
    "dat = pd.read_csv('./StudentPerformanceFactors.csv')\n",
    "dat = dat[['Hours_Studied', 'Attendance', 'Previous_Scores', 'Tutoring_Sessions', 'Exam_Score']]\n",
    "dat"
   ]
  },
  {
   "cell_type": "code",
   "execution_count": null,
   "metadata": {},
   "outputs": [],
   "source": [
    "# data preprocessing\n",
    "X, y = dat[['Hours_Studied', 'Attendance', 'Previous_Scores', 'Tutoring_Sessions']], dat[[ 'Exam_Score']]\n",
    "scaler = StandardScaler()\n",
    "X_train, X_test, y_train, y_test = train_test_split(X, y, test_size=0.2, random_state=42)\n",
    "X_train = scaler.fit_transform(X_train)\n",
    "X_test = scaler.transform(X_test) #make sure not to leak information to test set"
   ]
  },
  {
   "cell_type": "code",
   "execution_count": 5,
   "metadata": {},
   "outputs": [
    {
     "name": "stdout",
     "output_type": "stream",
     "text": [
      "For Degree: 1 , our Train MSE: 6.361797251640075, Test MSE: 5.069439258236874, Train R2: 0.5863849821854334, Test R2: 0.6413573918421556\n",
      "For Degree: 2 , our Train MSE: 6.348348076927451, Test MSE: 5.084437280132165, Train R2: 0.5872593861342419, Test R2: 0.6402963416123899\n",
      "For Degree: 3 , our Train MSE: 6.318106445722766, Test MSE: 5.091288170780315, Train R2: 0.5892255589521894, Test R2: 0.6398116684236808\n",
      "For Degree: 4 , our Train MSE: 6.270753949026225, Test MSE: 5.156117061623398, Train R2: 0.5923042021390112, Test R2: 0.6352252829653352\n"
     ]
    }
   ],
   "source": [
    "# Polynomial Regression\n",
    "from sklearn.model_selection import train_test_split\n",
    "from sklearn.preprocessing import PolynomialFeatures\n",
    "from sklearn.linear_model import LinearRegression\n",
    "from sklearn.metrics import mean_squared_error, r2_score\n",
    "degrees = [1,2,3,4]\n",
    "for i in degrees:\n",
    "    poly = PolynomialFeatures(degree = i)\n",
    "    X_train_poly = poly.fit_transform(X_train)\n",
    "    X_test_poly = poly.transform(X_test)\n",
    "    model = LinearRegression()\n",
    "    model.fit(X_train_poly, y_train)\n",
    "    y_train_pred = model.predict(X_train_poly)\n",
    "    y_test_pred = model.predict(X_test_poly)\n",
    "    train_mse = mean_squared_error(y_train, y_train_pred)\n",
    "    test_mse = mean_squared_error(y_test, y_test_pred)\n",
    "    train_r2 = r2_score(y_train, y_train_pred)\n",
    "    test_r2 = r2_score(y_test, y_test_pred)\n",
    "    print(f'For Degree: {i} , our Train MSE: {train_mse}, Test MSE: {test_mse}, Train R2: {train_r2}, Test R2: {test_r2}')"
   ]
  },
  {
   "cell_type": "code",
   "execution_count": 6,
   "metadata": {},
   "outputs": [],
   "source": [
    "import tensorflow.keras.models"
   ]
  },
  {
   "cell_type": "code",
   "execution_count": 19,
   "metadata": {},
   "outputs": [
    {
     "name": "stderr",
     "output_type": "stream",
     "text": [
      "C:\\Users\\corey\\AppData\\Local\\Temp\\ipykernel_15324\\1658501066.py:20: DeprecationWarning: KerasRegressor is deprecated, use Sci-Keras (https://github.com/adriangb/scikeras) instead. See https://www.adriangb.com/scikeras/stable/migration.html for help migrating.\n",
      "  model = KerasRegressor(build_fn=create_model, epochs=10, verbose=0)\n"
     ]
    },
    {
     "name": "stdout",
     "output_type": "stream",
     "text": [
      "Best parameters found:  {'batch_size': 32, 'learning_rate': 0.001, 'momentum': 0.9, 'regularization': 0.001}\n",
      "Best score:  -6.505130926767985\n",
      "Epoch 1/10\n",
      "166/166 [==============================] - 0s 979us/step - loss: 406.0618 - mse: 406.0581 - val_loss: 6.7178 - val_mse: 6.7163\n",
      "Epoch 2/10\n",
      "166/166 [==============================] - 0s 627us/step - loss: 7.7728 - mse: 7.7715 - val_loss: 5.1474 - val_mse: 5.1461\n",
      "Epoch 3/10\n",
      "166/166 [==============================] - 0s 631us/step - loss: 6.9085 - mse: 6.9072 - val_loss: 5.2520 - val_mse: 5.2509\n",
      "Epoch 4/10\n",
      "166/166 [==============================] - 0s 600us/step - loss: 6.9892 - mse: 6.9879 - val_loss: 6.1893 - val_mse: 6.1880\n",
      "Epoch 5/10\n",
      "166/166 [==============================] - 0s 620us/step - loss: 7.0092 - mse: 7.0079 - val_loss: 6.2832 - val_mse: 6.2818\n",
      "Epoch 6/10\n",
      "166/166 [==============================] - 0s 647us/step - loss: 7.7271 - mse: 7.7259 - val_loss: 8.0260 - val_mse: 8.0247\n",
      "Epoch 7/10\n",
      "166/166 [==============================] - 0s 601us/step - loss: 6.9962 - mse: 6.9950 - val_loss: 5.1430 - val_mse: 5.1418\n",
      "Epoch 8/10\n",
      "166/166 [==============================] - 0s 595us/step - loss: 7.2224 - mse: 7.2211 - val_loss: 5.5168 - val_mse: 5.5154\n",
      "Epoch 9/10\n",
      "166/166 [==============================] - 0s 618us/step - loss: 7.1941 - mse: 7.1928 - val_loss: 5.1021 - val_mse: 5.1010\n",
      "Epoch 10/10\n",
      "166/166 [==============================] - 0s 607us/step - loss: 6.8217 - mse: 6.8205 - val_loss: 5.0880 - val_mse: 5.0868\n"
     ]
    }
   ],
   "source": [
    "# Neural Network\n",
    "import numpy as np\n",
    "from sklearn.model_selection import GridSearchCV\n",
    "import tensorflow as tf\n",
    "from tensorflow.keras.models import Sequential\n",
    "from tensorflow.keras.layers import Dense\n",
    "from tensorflow.keras.wrappers.scikit_learn import KerasRegressor\n",
    "from tensorflow.keras.optimizers import SGD\n",
    "import matplotlib.pyplot as plt\n",
    "\n",
    "\n",
    "def create_model(learning_rate=0.001, regularization=0, momentum=0):\n",
    "    model = Sequential()\n",
    "    model.add(Dense(2, activation='relu', input_shape=(X.shape[1],), kernel_regularizer=tf.keras.regularizers.l2(regularization)))\n",
    "    model.add(Dense(1, activation='relu'))\n",
    "\n",
    "    optimizer = SGD(learning_rate=learning_rate, momentum=momentum)\n",
    "    model.compile(optimizer=optimizer, loss='mse', metrics=['mse'])\n",
    "    return model\n",
    "model = KerasRegressor(build_fn=create_model, epochs=10, verbose=0)\n",
    "param_grid = {\n",
    "    'batch_size': [16, 32],\n",
    "    'learning_rate': [0.001, 0.01],\n",
    "    'regularization': [0.001, 0.0001],\n",
    "    'momentum': [0.0, 0.9]\n",
    "}\n",
    "grid = GridSearchCV(estimator=model, param_grid=param_grid,n_jobs=-1, cv=3)\n",
    "grid_result = grid.fit(X_train, y_train)\n",
    "print(\"Best parameters found: \", grid_result.best_params_)\n",
    "print(\"Best score: \", grid_result.best_score_)\n",
    "\n",
    "#Rebuild model with best hyperparameters\n",
    "best_params = grid_result.best_params_\n",
    "best_model = create_model(learning_rate=best_params['learning_rate'],regularization=best_params['regularization'], momentum=best_params['momentum'])\n",
    "history = best_model.fit(X_train, y_train, epochs=10, batch_size=best_params['batch_size'], validation_data=(X_test, y_test))"
   ]
  },
  {
   "cell_type": "code",
   "execution_count": 21,
   "metadata": {},
   "outputs": [
    {
     "name": "stdout",
     "output_type": "stream",
     "text": [
      "Final Test MSE: 5.088005542755127\n",
      "Final Test RMSE: 2.2556607774120483\n",
      "42/42 [==============================] - 0s 342us/step\n"
     ]
    },
    {
     "data": {
      "image/png": "[encoded data removed]",
      "text/plain": [
       "<Figure size 640x480 with 1 Axes>"
      ]
     },
     "metadata": {},
     "output_type": "display_data"
    }
   ],
   "source": [
    "# Evaluate the model on the test set\n",
    "final_test_mse = best_model.evaluate(X_test, y_test, verbose=0)[0]\n",
    "final_test_rmse = np.sqrt(final_test_mse)\n",
    "print(f\"Final Test MSE: {final_test_mse}\")\n",
    "print(f\"Final Test RMSE: {final_test_rmse}\")\n",
    "\n",
    "# Graph for actual vs predicted\n",
    "y_pred = best_model.predict(X_test)\n",
    "plt.scatter(y_test, y_pred)\n",
    "plt.xlabel('Actual Grades')\n",
    "plt.ylabel('Predicted Grades')\n",
    "plt.title('Actual vs Predicted Grades')\n",
    "plt.plot([0, 100], [0, 100], 'r--')  \n",
    "plt.grid(True)\n",
    "plt.show()"
   ]
  }
 ],
 "metadata": {
  "kernelspec": {
   "display_name": "MLenv",
   "language": "python",
   "name": "python3"
  },
  "language_info": {
   "codemirror_mode": {
    "name": "ipython",
    "version": 3
   },
   "file_extension": ".py",
   "mimetype": "text/x-python",
   "name": "python",
   "nbconvert_exporter": "python",
   "pygments_lexer": "ipython3",
   "version": "3.11.10"
  },
  "orig_nbformat": 4
 },
 "nbformat": 4,
 "nbformat_minor": 2
}
